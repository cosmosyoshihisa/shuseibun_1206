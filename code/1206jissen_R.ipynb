{
 "cells": [
  {
   "cell_type": "code",
   "execution_count": 1,
   "metadata": {},
   "outputs": [],
   "source": [
    "baseball <- read.csv(\"../input/baseball.csv\")"
   ]
  },
  {
   "cell_type": "code",
   "execution_count": 2,
   "metadata": {
    "scrolled": true
   },
   "outputs": [
    {
     "data": {
      "text/html": [
       "<table>\n",
       "<thead><tr><th scope=col>earned.run.average</th><th scope=col>winning.ratio</th><th scope=col>innings.pitched</th><th scope=col>homeruns.allowed</th><th scope=col>strikeouts.ratio</th><th scope=col>balls.on.base</th><th scope=col>hit.by.pitch</th><th scope=col>batting.average.against</th><th scope=col>k.bb</th><th scope=col>whip</th></tr></thead>\n",
       "<tbody>\n",
       "\t<tr><td>2.14 </td><td>0.652</td><td>202.0</td><td>14   </td><td>8.91 </td><td>37   </td><td> 3   </td><td>0.221</td><td>5.41 </td><td>1.00 </td></tr>\n",
       "\t<tr><td>2.45 </td><td>0.688</td><td>154.0</td><td>13   </td><td>9.06 </td><td>42   </td><td> 2   </td><td>0.228</td><td>3.69 </td><td>1.12 </td></tr>\n",
       "\t<tr><td>2.62 </td><td>0.682</td><td>182.0</td><td>22   </td><td>7.86 </td><td>41   </td><td> 4   </td><td>0.215</td><td>3.88 </td><td>1.01 </td></tr>\n",
       "\t<tr><td>2.99 </td><td>0.591</td><td>168.2</td><td>13   </td><td>7.04 </td><td>73   </td><td> 6   </td><td>0.234</td><td>1.81 </td><td>1.29 </td></tr>\n",
       "\t<tr><td>3.11 </td><td>0.688</td><td>144.2</td><td> 9   </td><td>7.03 </td><td>48   </td><td> 5   </td><td>0.255</td><td>2.35 </td><td>1.28 </td></tr>\n",
       "\t<tr><td>3.63 </td><td>0.611</td><td>173.2</td><td>13   </td><td>7.72 </td><td>58   </td><td> 4   </td><td>0.247</td><td>2.57 </td><td>1.26 </td></tr>\n",
       "\t<tr><td>3.68 </td><td>0.500</td><td>154.0</td><td>18   </td><td>8.42 </td><td>60   </td><td> 9   </td><td>0.226</td><td>2.40 </td><td>1.21 </td></tr>\n",
       "\t<tr><td>4.03 </td><td>0.476</td><td>174.1</td><td>17   </td><td>4.90 </td><td>53   </td><td>10   </td><td>0.276</td><td>1.79 </td><td>1.37 </td></tr>\n",
       "\t<tr><td>2.72 </td><td>0.733</td><td>159.0</td><td>21   </td><td>9.00 </td><td>29   </td><td> 8   </td><td>0.218</td><td>5.48 </td><td>0.98 </td></tr>\n",
       "\t<tr><td>3.08 </td><td>0.778</td><td>163.2</td><td>16   </td><td>8.41 </td><td>45   </td><td> 4   </td><td>0.210</td><td>3.40 </td><td>1.03 </td></tr>\n",
       "\t<tr><td>3.16 </td><td>0.647</td><td>165.1</td><td>15   </td><td>8.22 </td><td>38   </td><td> 5   </td><td>0.237</td><td>3.97 </td><td>1.11 </td></tr>\n",
       "\t<tr><td>3.51 </td><td>0.476</td><td>161.2</td><td>16   </td><td>5.18 </td><td>40   </td><td> 6   </td><td>0.270</td><td>2.33 </td><td>1.29 </td></tr>\n",
       "\t<tr><td>3.60 </td><td>0.435</td><td>162.1</td><td>15   </td><td>6.60 </td><td>36   </td><td> 6   </td><td>0.260</td><td>3.31 </td><td>1.22 </td></tr>\n",
       "\t<tr><td>3.69 </td><td>0.476</td><td>180.1</td><td>18   </td><td>9.33 </td><td>51   </td><td> 3   </td><td>0.250</td><td>3.67 </td><td>1.23 </td></tr>\n",
       "\t<tr><td>3.70 </td><td>0.438</td><td>150.2</td><td>16   </td><td>5.91 </td><td>43   </td><td> 2   </td><td>0.272</td><td>2.30 </td><td>1.31 </td></tr>\n",
       "\t<tr><td>3.81 </td><td>0.762</td><td>172.2</td><td>12   </td><td>5.32 </td><td>47   </td><td>11   </td><td>0.261</td><td>2.17 </td><td>1.27 </td></tr>\n",
       "\t<tr><td>3.95 </td><td>0.368</td><td>146.0</td><td>21   </td><td>7.46 </td><td>49   </td><td> 6   </td><td>0.247</td><td>2.47 </td><td>1.27 </td></tr>\n",
       "</tbody>\n",
       "</table>\n"
      ],
      "text/latex": [
       "\\begin{tabular}{r|llllllllll}\n",
       " earned.run.average & winning.ratio & innings.pitched & homeruns.allowed & strikeouts.ratio & balls.on.base & hit.by.pitch & batting.average.against & k.bb & whip\\\\\n",
       "\\hline\n",
       "\t 2.14  & 0.652 & 202.0 & 14    & 8.91  & 37    &  3    & 0.221 & 5.41  & 1.00 \\\\\n",
       "\t 2.45  & 0.688 & 154.0 & 13    & 9.06  & 42    &  2    & 0.228 & 3.69  & 1.12 \\\\\n",
       "\t 2.62  & 0.682 & 182.0 & 22    & 7.86  & 41    &  4    & 0.215 & 3.88  & 1.01 \\\\\n",
       "\t 2.99  & 0.591 & 168.2 & 13    & 7.04  & 73    &  6    & 0.234 & 1.81  & 1.29 \\\\\n",
       "\t 3.11  & 0.688 & 144.2 &  9    & 7.03  & 48    &  5    & 0.255 & 2.35  & 1.28 \\\\\n",
       "\t 3.63  & 0.611 & 173.2 & 13    & 7.72  & 58    &  4    & 0.247 & 2.57  & 1.26 \\\\\n",
       "\t 3.68  & 0.500 & 154.0 & 18    & 8.42  & 60    &  9    & 0.226 & 2.40  & 1.21 \\\\\n",
       "\t 4.03  & 0.476 & 174.1 & 17    & 4.90  & 53    & 10    & 0.276 & 1.79  & 1.37 \\\\\n",
       "\t 2.72  & 0.733 & 159.0 & 21    & 9.00  & 29    &  8    & 0.218 & 5.48  & 0.98 \\\\\n",
       "\t 3.08  & 0.778 & 163.2 & 16    & 8.41  & 45    &  4    & 0.210 & 3.40  & 1.03 \\\\\n",
       "\t 3.16  & 0.647 & 165.1 & 15    & 8.22  & 38    &  5    & 0.237 & 3.97  & 1.11 \\\\\n",
       "\t 3.51  & 0.476 & 161.2 & 16    & 5.18  & 40    &  6    & 0.270 & 2.33  & 1.29 \\\\\n",
       "\t 3.60  & 0.435 & 162.1 & 15    & 6.60  & 36    &  6    & 0.260 & 3.31  & 1.22 \\\\\n",
       "\t 3.69  & 0.476 & 180.1 & 18    & 9.33  & 51    &  3    & 0.250 & 3.67  & 1.23 \\\\\n",
       "\t 3.70  & 0.438 & 150.2 & 16    & 5.91  & 43    &  2    & 0.272 & 2.30  & 1.31 \\\\\n",
       "\t 3.81  & 0.762 & 172.2 & 12    & 5.32  & 47    & 11    & 0.261 & 2.17  & 1.27 \\\\\n",
       "\t 3.95  & 0.368 & 146.0 & 21    & 7.46  & 49    &  6    & 0.247 & 2.47  & 1.27 \\\\\n",
       "\\end{tabular}\n"
      ],
      "text/markdown": [
       "\n",
       "earned.run.average | winning.ratio | innings.pitched | homeruns.allowed | strikeouts.ratio | balls.on.base | hit.by.pitch | batting.average.against | k.bb | whip | \n",
       "|---|---|---|---|---|---|---|---|---|---|---|---|---|---|---|---|---|\n",
       "| 2.14  | 0.652 | 202.0 | 14    | 8.91  | 37    |  3    | 0.221 | 5.41  | 1.00  | \n",
       "| 2.45  | 0.688 | 154.0 | 13    | 9.06  | 42    |  2    | 0.228 | 3.69  | 1.12  | \n",
       "| 2.62  | 0.682 | 182.0 | 22    | 7.86  | 41    |  4    | 0.215 | 3.88  | 1.01  | \n",
       "| 2.99  | 0.591 | 168.2 | 13    | 7.04  | 73    |  6    | 0.234 | 1.81  | 1.29  | \n",
       "| 3.11  | 0.688 | 144.2 |  9    | 7.03  | 48    |  5    | 0.255 | 2.35  | 1.28  | \n",
       "| 3.63  | 0.611 | 173.2 | 13    | 7.72  | 58    |  4    | 0.247 | 2.57  | 1.26  | \n",
       "| 3.68  | 0.500 | 154.0 | 18    | 8.42  | 60    |  9    | 0.226 | 2.40  | 1.21  | \n",
       "| 4.03  | 0.476 | 174.1 | 17    | 4.90  | 53    | 10    | 0.276 | 1.79  | 1.37  | \n",
       "| 2.72  | 0.733 | 159.0 | 21    | 9.00  | 29    |  8    | 0.218 | 5.48  | 0.98  | \n",
       "| 3.08  | 0.778 | 163.2 | 16    | 8.41  | 45    |  4    | 0.210 | 3.40  | 1.03  | \n",
       "| 3.16  | 0.647 | 165.1 | 15    | 8.22  | 38    |  5    | 0.237 | 3.97  | 1.11  | \n",
       "| 3.51  | 0.476 | 161.2 | 16    | 5.18  | 40    |  6    | 0.270 | 2.33  | 1.29  | \n",
       "| 3.60  | 0.435 | 162.1 | 15    | 6.60  | 36    |  6    | 0.260 | 3.31  | 1.22  | \n",
       "| 3.69  | 0.476 | 180.1 | 18    | 9.33  | 51    |  3    | 0.250 | 3.67  | 1.23  | \n",
       "| 3.70  | 0.438 | 150.2 | 16    | 5.91  | 43    |  2    | 0.272 | 2.30  | 1.31  | \n",
       "| 3.81  | 0.762 | 172.2 | 12    | 5.32  | 47    | 11    | 0.261 | 2.17  | 1.27  | \n",
       "| 3.95  | 0.368 | 146.0 | 21    | 7.46  | 49    |  6    | 0.247 | 2.47  | 1.27  | \n",
       "\n",
       "\n"
      ],
      "text/plain": [
       "   earned.run.average winning.ratio innings.pitched homeruns.allowed\n",
       "1  2.14               0.652         202.0           14              \n",
       "2  2.45               0.688         154.0           13              \n",
       "3  2.62               0.682         182.0           22              \n",
       "4  2.99               0.591         168.2           13              \n",
       "5  3.11               0.688         144.2            9              \n",
       "6  3.63               0.611         173.2           13              \n",
       "7  3.68               0.500         154.0           18              \n",
       "8  4.03               0.476         174.1           17              \n",
       "9  2.72               0.733         159.0           21              \n",
       "10 3.08               0.778         163.2           16              \n",
       "11 3.16               0.647         165.1           15              \n",
       "12 3.51               0.476         161.2           16              \n",
       "13 3.60               0.435         162.1           15              \n",
       "14 3.69               0.476         180.1           18              \n",
       "15 3.70               0.438         150.2           16              \n",
       "16 3.81               0.762         172.2           12              \n",
       "17 3.95               0.368         146.0           21              \n",
       "   strikeouts.ratio balls.on.base hit.by.pitch batting.average.against k.bb\n",
       "1  8.91             37             3           0.221                   5.41\n",
       "2  9.06             42             2           0.228                   3.69\n",
       "3  7.86             41             4           0.215                   3.88\n",
       "4  7.04             73             6           0.234                   1.81\n",
       "5  7.03             48             5           0.255                   2.35\n",
       "6  7.72             58             4           0.247                   2.57\n",
       "7  8.42             60             9           0.226                   2.40\n",
       "8  4.90             53            10           0.276                   1.79\n",
       "9  9.00             29             8           0.218                   5.48\n",
       "10 8.41             45             4           0.210                   3.40\n",
       "11 8.22             38             5           0.237                   3.97\n",
       "12 5.18             40             6           0.270                   2.33\n",
       "13 6.60             36             6           0.260                   3.31\n",
       "14 9.33             51             3           0.250                   3.67\n",
       "15 5.91             43             2           0.272                   2.30\n",
       "16 5.32             47            11           0.261                   2.17\n",
       "17 7.46             49             6           0.247                   2.47\n",
       "   whip\n",
       "1  1.00\n",
       "2  1.12\n",
       "3  1.01\n",
       "4  1.29\n",
       "5  1.28\n",
       "6  1.26\n",
       "7  1.21\n",
       "8  1.37\n",
       "9  0.98\n",
       "10 1.03\n",
       "11 1.11\n",
       "12 1.29\n",
       "13 1.22\n",
       "14 1.23\n",
       "15 1.31\n",
       "16 1.27\n",
       "17 1.27"
      ]
     },
     "metadata": {},
     "output_type": "display_data"
    }
   ],
   "source": [
    "baseball"
   ]
  },
  {
   "cell_type": "code",
   "execution_count": 4,
   "metadata": {
    "scrolled": true
   },
   "outputs": [
    {
     "data": {
      "text/plain": [
       " earned.run.average winning.ratio    innings.pitched homeruns.allowed\n",
       " Min.   :2.140      Min.   :0.3680   Min.   :144.2   Min.   : 9.00   \n",
       " 1st Qu.:2.990      1st Qu.:0.4760   1st Qu.:154.0   1st Qu.:13.00   \n",
       " Median :3.510      Median :0.6110   Median :163.2   Median :16.00   \n",
       " Mean   :3.286      Mean   :0.5883   Mean   :165.3   Mean   :15.82   \n",
       " 3rd Qu.:3.690      3rd Qu.:0.6880   3rd Qu.:173.2   3rd Qu.:18.00   \n",
       " Max.   :4.030      Max.   :0.7780   Max.   :202.0   Max.   :22.00   \n",
       " strikeouts.ratio balls.on.base    hit.by.pitch    batting.average.against\n",
       " Min.   :4.900    Min.   :29.00   Min.   : 2.000   Min.   :0.2100         \n",
       " 1st Qu.:6.600    1st Qu.:40.00   1st Qu.: 4.000   1st Qu.:0.2260         \n",
       " Median :7.720    Median :45.00   Median : 5.000   Median :0.2470         \n",
       " Mean   :7.434    Mean   :46.47   Mean   : 5.529   Mean   :0.2428         \n",
       " 3rd Qu.:8.420    3rd Qu.:51.00   3rd Qu.: 6.000   3rd Qu.:0.2600         \n",
       " Max.   :9.330    Max.   :73.00   Max.   :11.000   Max.   :0.2760         \n",
       "      k.bb            whip      \n",
       " Min.   :1.790   Min.   :0.980  \n",
       " 1st Qu.:2.330   1st Qu.:1.110  \n",
       " Median :2.570   Median :1.230  \n",
       " Mean   :3.118   Mean   :1.191  \n",
       " 3rd Qu.:3.690   3rd Qu.:1.280  \n",
       " Max.   :5.480   Max.   :1.370  "
      ]
     },
     "metadata": {},
     "output_type": "display_data"
    },
    {
     "data": {
      "text/plain": [
       "Importance of components:\n",
       "                          PC1    PC2    PC3    PC4     PC5     PC6     PC7\n",
       "Standard deviation     2.2138 1.2033 1.0538 1.0232 0.95069 0.55450 0.44812\n",
       "Proportion of Variance 0.4901 0.1448 0.1110 0.1047 0.09038 0.03075 0.02008\n",
       "Cumulative Proportion  0.4901 0.6349 0.7459 0.8506 0.94100 0.97174 0.99182\n",
       "                           PC8     PC9    PC10\n",
       "Standard deviation     0.25958 0.11576 0.03117\n",
       "Proportion of Variance 0.00674 0.00134 0.00010\n",
       "Cumulative Proportion  0.99856 0.99990 1.00000"
      ]
     },
     "metadata": {},
     "output_type": "display_data"
    }
   ],
   "source": [
    "summary(baseball)\n",
    "pca_pitch <- prcomp(baseball,scale=TRUE)\n",
    "summary(pca_pitch)"
   ]
  },
  {
   "cell_type": "code",
   "execution_count": 8,
   "metadata": {},
   "outputs": [
    {
     "data": {
      "text/html": [
       "<table>\n",
       "<thead><tr><th scope=col>PC1</th><th scope=col>PC2</th><th scope=col>PC3</th><th scope=col>PC4</th><th scope=col>PC5</th><th scope=col>PC6</th><th scope=col>PC7</th><th scope=col>PC8</th><th scope=col>PC9</th><th scope=col>PC10</th></tr></thead>\n",
       "<tbody>\n",
       "\t<tr><td>-3.9994825  </td><td>-0.60628526 </td><td>-0.37095958 </td><td> 0.5864306  </td><td>-2.0130806  </td><td>-0.23323719 </td><td>-0.62085661 </td><td>-0.222343212</td><td> 0.02674435 </td><td> 0.028415830</td></tr>\n",
       "\t<tr><td>-2.0732379  </td><td>-1.05405231 </td><td> 1.12646048 </td><td> 0.9008065  </td><td> 0.8710093  </td><td> 0.04232917 </td><td>-0.25464421 </td><td> 0.206460071</td><td>-0.21381872 </td><td> 0.013987600</td></tr>\n",
       "\t<tr><td>-2.8109693  </td><td> 0.86346820 </td><td>-0.34447562 </td><td>-0.6977427  </td><td>-0.5610183  </td><td> 1.33204220 </td><td> 0.28917235 </td><td> 0.088009525</td><td>-0.13877110 </td><td>-0.019908085</td></tr>\n",
       "\t<tr><td> 1.2045887  </td><td>-1.95103498 </td><td> 0.88715199 </td><td>-1.6005379  </td><td>-0.3956201  </td><td> 0.57944428 </td><td>-0.66728524 </td><td> 0.127292635</td><td> 0.17433193 </td><td>-0.003199764</td></tr>\n",
       "\t<tr><td> 1.0305281  </td><td>-1.96849583 </td><td> 0.30197612 </td><td> 1.1314948  </td><td> 1.3046546  </td><td>-0.21175450 </td><td>-0.17622119 </td><td> 0.181786569</td><td>-0.05616520 </td><td>-0.001945125</td></tr>\n",
       "\t<tr><td> 0.7662137  </td><td>-1.11240496 </td><td> 0.72745919 </td><td>-0.3379850  </td><td>-0.7269510  </td><td>-0.35417838 </td><td> 0.61562035 </td><td>-0.004684402</td><td> 0.11341637 </td><td> 0.020538793</td></tr>\n",
       "\t<tr><td> 0.8517254  </td><td> 0.49499271 </td><td> 0.46805320 </td><td>-2.0927438  </td><td> 0.8796248  </td><td>-0.47716547 </td><td>-0.40501625 </td><td>-0.296522360</td><td>-0.10950122 </td><td>-0.047579593</td></tr>\n",
       "\t<tr><td> 3.4513135  </td><td> 0.51706418 </td><td>-1.37437382 </td><td>-0.5187804  </td><td>-0.9209530  </td><td> 0.13854386 </td><td>-0.13890556 </td><td> 0.214337174</td><td>-0.04336752 </td><td>-0.010722652</td></tr>\n",
       "\t<tr><td>-3.4372669  </td><td> 1.48357231 </td><td>-1.36427481 </td><td>-0.2286533  </td><td> 1.3620253  </td><td>-0.32632694 </td><td>-0.24477078 </td><td> 0.446168670</td><td> 0.19771214 </td><td> 0.000510304</td></tr>\n",
       "\t<tr><td>-2.1939338  </td><td>-0.65517931 </td><td> 0.09948723 </td><td>-0.5210131  </td><td> 0.8559621  </td><td> 0.39122651 </td><td> 0.84573167 </td><td>-0.445594160</td><td> 0.05817532 </td><td> 0.008123585</td></tr>\n",
       "\t<tr><td>-1.3109436  </td><td> 0.02858559 </td><td>-0.21931649 </td><td> 0.5330694  </td><td> 0.2827939  </td><td>-0.45163289 </td><td> 0.16345436 </td><td>-0.120393738</td><td> 0.02134055 </td><td>-0.040478832</td></tr>\n",
       "\t<tr><td> 2.0415275  </td><td> 0.63363731 </td><td>-0.54318140 </td><td> 1.1486482  </td><td>-0.2192132  </td><td> 0.60795225 </td><td>-0.25589553 </td><td>-0.036907309</td><td>-0.07687483 </td><td> 0.005169921</td></tr>\n",
       "\t<tr><td> 0.9765370  </td><td> 0.96632142 </td><td>-0.29301031 </td><td> 1.1747915  </td><td>-0.1697405  </td><td>-0.44078423 </td><td>-0.37893716 </td><td>-0.482371578</td><td> 0.03263462 </td><td>-0.016571011</td></tr>\n",
       "\t<tr><td>-0.2107238  </td><td> 0.88503100 </td><td> 1.29339655 </td><td>-0.3275651  </td><td>-1.4320048  </td><td>-0.93727337 </td><td> 0.55068230 </td><td> 0.369579557</td><td>-0.08357133 </td><td>-0.013902039</td></tr>\n",
       "\t<tr><td> 2.0989552  </td><td> 0.73991255 </td><td> 1.09630379 </td><td> 1.6479382  </td><td> 0.0236283  </td><td> 0.59451778 </td><td> 0.29624475 </td><td> 0.064375454</td><td> 0.16748148 </td><td>-0.033300317</td></tr>\n",
       "\t<tr><td> 1.9208629  </td><td>-1.35663133 </td><td>-2.53994839 </td><td>-0.2319559  </td><td> 0.1452995  </td><td>-0.27597694 </td><td> 0.47852900 </td><td> 0.001545242</td><td>-0.05810100 </td><td> 0.024775931</td></tr>\n",
       "\t<tr><td> 1.6943058  </td><td> 2.09149873 </td><td> 1.04925187 </td><td>-0.5662021  </td><td> 0.7135836  </td><td> 0.02227388 </td><td>-0.09690224 </td><td>-0.090738139</td><td>-0.01166584 </td><td> 0.086085454</td></tr>\n",
       "</tbody>\n",
       "</table>\n"
      ],
      "text/latex": [
       "\\begin{tabular}{llllllllll}\n",
       " PC1 & PC2 & PC3 & PC4 & PC5 & PC6 & PC7 & PC8 & PC9 & PC10\\\\\n",
       "\\hline\n",
       "\t -3.9994825   & -0.60628526  & -0.37095958  &  0.5864306   & -2.0130806   & -0.23323719  & -0.62085661  & -0.222343212 &  0.02674435  &  0.028415830\\\\\n",
       "\t -2.0732379   & -1.05405231  &  1.12646048  &  0.9008065   &  0.8710093   &  0.04232917  & -0.25464421  &  0.206460071 & -0.21381872  &  0.013987600\\\\\n",
       "\t -2.8109693   &  0.86346820  & -0.34447562  & -0.6977427   & -0.5610183   &  1.33204220  &  0.28917235  &  0.088009525 & -0.13877110  & -0.019908085\\\\\n",
       "\t  1.2045887   & -1.95103498  &  0.88715199  & -1.6005379   & -0.3956201   &  0.57944428  & -0.66728524  &  0.127292635 &  0.17433193  & -0.003199764\\\\\n",
       "\t  1.0305281   & -1.96849583  &  0.30197612  &  1.1314948   &  1.3046546   & -0.21175450  & -0.17622119  &  0.181786569 & -0.05616520  & -0.001945125\\\\\n",
       "\t  0.7662137   & -1.11240496  &  0.72745919  & -0.3379850   & -0.7269510   & -0.35417838  &  0.61562035  & -0.004684402 &  0.11341637  &  0.020538793\\\\\n",
       "\t  0.8517254   &  0.49499271  &  0.46805320  & -2.0927438   &  0.8796248   & -0.47716547  & -0.40501625  & -0.296522360 & -0.10950122  & -0.047579593\\\\\n",
       "\t  3.4513135   &  0.51706418  & -1.37437382  & -0.5187804   & -0.9209530   &  0.13854386  & -0.13890556  &  0.214337174 & -0.04336752  & -0.010722652\\\\\n",
       "\t -3.4372669   &  1.48357231  & -1.36427481  & -0.2286533   &  1.3620253   & -0.32632694  & -0.24477078  &  0.446168670 &  0.19771214  &  0.000510304\\\\\n",
       "\t -2.1939338   & -0.65517931  &  0.09948723  & -0.5210131   &  0.8559621   &  0.39122651  &  0.84573167  & -0.445594160 &  0.05817532  &  0.008123585\\\\\n",
       "\t -1.3109436   &  0.02858559  & -0.21931649  &  0.5330694   &  0.2827939   & -0.45163289  &  0.16345436  & -0.120393738 &  0.02134055  & -0.040478832\\\\\n",
       "\t  2.0415275   &  0.63363731  & -0.54318140  &  1.1486482   & -0.2192132   &  0.60795225  & -0.25589553  & -0.036907309 & -0.07687483  &  0.005169921\\\\\n",
       "\t  0.9765370   &  0.96632142  & -0.29301031  &  1.1747915   & -0.1697405   & -0.44078423  & -0.37893716  & -0.482371578 &  0.03263462  & -0.016571011\\\\\n",
       "\t -0.2107238   &  0.88503100  &  1.29339655  & -0.3275651   & -1.4320048   & -0.93727337  &  0.55068230  &  0.369579557 & -0.08357133  & -0.013902039\\\\\n",
       "\t  2.0989552   &  0.73991255  &  1.09630379  &  1.6479382   &  0.0236283   &  0.59451778  &  0.29624475  &  0.064375454 &  0.16748148  & -0.033300317\\\\\n",
       "\t  1.9208629   & -1.35663133  & -2.53994839  & -0.2319559   &  0.1452995   & -0.27597694  &  0.47852900  &  0.001545242 & -0.05810100  &  0.024775931\\\\\n",
       "\t  1.6943058   &  2.09149873  &  1.04925187  & -0.5662021   &  0.7135836   &  0.02227388  & -0.09690224  & -0.090738139 & -0.01166584  &  0.086085454\\\\\n",
       "\\end{tabular}\n"
      ],
      "text/markdown": [
       "\n",
       "PC1 | PC2 | PC3 | PC4 | PC5 | PC6 | PC7 | PC8 | PC9 | PC10 | \n",
       "|---|---|---|---|---|---|---|---|---|---|---|---|---|---|---|---|---|\n",
       "| -3.9994825   | -0.60628526  | -0.37095958  |  0.5864306   | -2.0130806   | -0.23323719  | -0.62085661  | -0.222343212 |  0.02674435  |  0.028415830 | \n",
       "| -2.0732379   | -1.05405231  |  1.12646048  |  0.9008065   |  0.8710093   |  0.04232917  | -0.25464421  |  0.206460071 | -0.21381872  |  0.013987600 | \n",
       "| -2.8109693   |  0.86346820  | -0.34447562  | -0.6977427   | -0.5610183   |  1.33204220  |  0.28917235  |  0.088009525 | -0.13877110  | -0.019908085 | \n",
       "|  1.2045887   | -1.95103498  |  0.88715199  | -1.6005379   | -0.3956201   |  0.57944428  | -0.66728524  |  0.127292635 |  0.17433193  | -0.003199764 | \n",
       "|  1.0305281   | -1.96849583  |  0.30197612  |  1.1314948   |  1.3046546   | -0.21175450  | -0.17622119  |  0.181786569 | -0.05616520  | -0.001945125 | \n",
       "|  0.7662137   | -1.11240496  |  0.72745919  | -0.3379850   | -0.7269510   | -0.35417838  |  0.61562035  | -0.004684402 |  0.11341637  |  0.020538793 | \n",
       "|  0.8517254   |  0.49499271  |  0.46805320  | -2.0927438   |  0.8796248   | -0.47716547  | -0.40501625  | -0.296522360 | -0.10950122  | -0.047579593 | \n",
       "|  3.4513135   |  0.51706418  | -1.37437382  | -0.5187804   | -0.9209530   |  0.13854386  | -0.13890556  |  0.214337174 | -0.04336752  | -0.010722652 | \n",
       "| -3.4372669   |  1.48357231  | -1.36427481  | -0.2286533   |  1.3620253   | -0.32632694  | -0.24477078  |  0.446168670 |  0.19771214  |  0.000510304 | \n",
       "| -2.1939338   | -0.65517931  |  0.09948723  | -0.5210131   |  0.8559621   |  0.39122651  |  0.84573167  | -0.445594160 |  0.05817532  |  0.008123585 | \n",
       "| -1.3109436   |  0.02858559  | -0.21931649  |  0.5330694   |  0.2827939   | -0.45163289  |  0.16345436  | -0.120393738 |  0.02134055  | -0.040478832 | \n",
       "|  2.0415275   |  0.63363731  | -0.54318140  |  1.1486482   | -0.2192132   |  0.60795225  | -0.25589553  | -0.036907309 | -0.07687483  |  0.005169921 | \n",
       "|  0.9765370   |  0.96632142  | -0.29301031  |  1.1747915   | -0.1697405   | -0.44078423  | -0.37893716  | -0.482371578 |  0.03263462  | -0.016571011 | \n",
       "| -0.2107238   |  0.88503100  |  1.29339655  | -0.3275651   | -1.4320048   | -0.93727337  |  0.55068230  |  0.369579557 | -0.08357133  | -0.013902039 | \n",
       "|  2.0989552   |  0.73991255  |  1.09630379  |  1.6479382   |  0.0236283   |  0.59451778  |  0.29624475  |  0.064375454 |  0.16748148  | -0.033300317 | \n",
       "|  1.9208629   | -1.35663133  | -2.53994839  | -0.2319559   |  0.1452995   | -0.27597694  |  0.47852900  |  0.001545242 | -0.05810100  |  0.024775931 | \n",
       "|  1.6943058   |  2.09149873  |  1.04925187  | -0.5662021   |  0.7135836   |  0.02227388  | -0.09690224  | -0.090738139 | -0.01166584  |  0.086085454 | \n",
       "\n",
       "\n"
      ],
      "text/plain": [
       "      PC1        PC2         PC3         PC4        PC5        PC6        \n",
       " [1,] -3.9994825 -0.60628526 -0.37095958  0.5864306 -2.0130806 -0.23323719\n",
       " [2,] -2.0732379 -1.05405231  1.12646048  0.9008065  0.8710093  0.04232917\n",
       " [3,] -2.8109693  0.86346820 -0.34447562 -0.6977427 -0.5610183  1.33204220\n",
       " [4,]  1.2045887 -1.95103498  0.88715199 -1.6005379 -0.3956201  0.57944428\n",
       " [5,]  1.0305281 -1.96849583  0.30197612  1.1314948  1.3046546 -0.21175450\n",
       " [6,]  0.7662137 -1.11240496  0.72745919 -0.3379850 -0.7269510 -0.35417838\n",
       " [7,]  0.8517254  0.49499271  0.46805320 -2.0927438  0.8796248 -0.47716547\n",
       " [8,]  3.4513135  0.51706418 -1.37437382 -0.5187804 -0.9209530  0.13854386\n",
       " [9,] -3.4372669  1.48357231 -1.36427481 -0.2286533  1.3620253 -0.32632694\n",
       "[10,] -2.1939338 -0.65517931  0.09948723 -0.5210131  0.8559621  0.39122651\n",
       "[11,] -1.3109436  0.02858559 -0.21931649  0.5330694  0.2827939 -0.45163289\n",
       "[12,]  2.0415275  0.63363731 -0.54318140  1.1486482 -0.2192132  0.60795225\n",
       "[13,]  0.9765370  0.96632142 -0.29301031  1.1747915 -0.1697405 -0.44078423\n",
       "[14,] -0.2107238  0.88503100  1.29339655 -0.3275651 -1.4320048 -0.93727337\n",
       "[15,]  2.0989552  0.73991255  1.09630379  1.6479382  0.0236283  0.59451778\n",
       "[16,]  1.9208629 -1.35663133 -2.53994839 -0.2319559  0.1452995 -0.27597694\n",
       "[17,]  1.6943058  2.09149873  1.04925187 -0.5662021  0.7135836  0.02227388\n",
       "      PC7         PC8          PC9         PC10        \n",
       " [1,] -0.62085661 -0.222343212  0.02674435  0.028415830\n",
       " [2,] -0.25464421  0.206460071 -0.21381872  0.013987600\n",
       " [3,]  0.28917235  0.088009525 -0.13877110 -0.019908085\n",
       " [4,] -0.66728524  0.127292635  0.17433193 -0.003199764\n",
       " [5,] -0.17622119  0.181786569 -0.05616520 -0.001945125\n",
       " [6,]  0.61562035 -0.004684402  0.11341637  0.020538793\n",
       " [7,] -0.40501625 -0.296522360 -0.10950122 -0.047579593\n",
       " [8,] -0.13890556  0.214337174 -0.04336752 -0.010722652\n",
       " [9,] -0.24477078  0.446168670  0.19771214  0.000510304\n",
       "[10,]  0.84573167 -0.445594160  0.05817532  0.008123585\n",
       "[11,]  0.16345436 -0.120393738  0.02134055 -0.040478832\n",
       "[12,] -0.25589553 -0.036907309 -0.07687483  0.005169921\n",
       "[13,] -0.37893716 -0.482371578  0.03263462 -0.016571011\n",
       "[14,]  0.55068230  0.369579557 -0.08357133 -0.013902039\n",
       "[15,]  0.29624475  0.064375454  0.16748148 -0.033300317\n",
       "[16,]  0.47852900  0.001545242 -0.05810100  0.024775931\n",
       "[17,] -0.09690224 -0.090738139 -0.01166584  0.086085454"
      ]
     },
     "metadata": {},
     "output_type": "display_data"
    }
   ],
   "source": [
    "PC <- pca_pitch$x\n",
    "PC"
   ]
  },
  {
   "cell_type": "code",
   "execution_count": 7,
   "metadata": {},
   "outputs": [
    {
     "data": {
      "image/png": "[encoded data removed]",
      "text/plain": [
       "plot without title"
      ]
     },
     "metadata": {},
     "output_type": "display_data"
    }
   ],
   "source": [
    "biplot(pca_pitch)"
   ]
  },
  {
   "cell_type": "code",
   "execution_count": null,
   "metadata": {},
   "outputs": [],
   "source": []
  }
 ],
 "metadata": {
  "kernelspec": {
   "display_name": "R",
   "language": "R",
   "name": "ir"
  },
  "language_info": {
   "codemirror_mode": "r",
   "file_extension": ".r",
   "mimetype": "text/x-r-source",
   "name": "R",
   "pygments_lexer": "r",
   "version": "3.5.1"
  }
 },
 "nbformat": 4,
 "nbformat_minor": 2
}
